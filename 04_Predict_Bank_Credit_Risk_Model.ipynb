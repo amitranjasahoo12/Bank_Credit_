{
 "cells": [
  {
   "cell_type": "code",
   "execution_count": 1,
   "id": "c4dc5585",
   "metadata": {},
   "outputs": [],
   "source": [
    "# import the requirements Libarary\n",
    "import pandas as pd\n",
    "import numpy as np\n",
    "import matplotlib.pyplot as plt\n",
    "\n",
    "import warnings\n",
    "warnings.simplefilter(\"ignore\")\n",
    "\n",
    "# import the requirements\n",
    "# to visualize all the columns in the dataframe\n",
    "pd.pandas.set_option('display.max_columns',None)"
   ]
  },
  {
   "cell_type": "code",
   "execution_count": 2,
   "id": "e3f93c3a",
   "metadata": {},
   "outputs": [
    {
     "data": {
      "text/html": [
       "<div>\n",
       "<style scoped>\n",
       "    .dataframe tbody tr th:only-of-type {\n",
       "        vertical-align: middle;\n",
       "    }\n",
       "\n",
       "    .dataframe tbody tr th {\n",
       "        vertical-align: top;\n",
       "    }\n",
       "\n",
       "    .dataframe thead th {\n",
       "        text-align: right;\n",
       "    }\n",
       "</style>\n",
       "<table border=\"1\" class=\"dataframe\">\n",
       "  <thead>\n",
       "    <tr style=\"text-align: right;\">\n",
       "      <th></th>\n",
       "      <th>status</th>\n",
       "      <th>duration</th>\n",
       "      <th>credit_history</th>\n",
       "      <th>purpose</th>\n",
       "      <th>amount</th>\n",
       "      <th>savings</th>\n",
       "      <th>employment_duration</th>\n",
       "      <th>installment_rate</th>\n",
       "      <th>personal_status_sex</th>\n",
       "      <th>other_debtors</th>\n",
       "      <th>present_residence</th>\n",
       "      <th>property</th>\n",
       "      <th>age</th>\n",
       "      <th>other_installment_plans</th>\n",
       "      <th>housing</th>\n",
       "      <th>number_credits</th>\n",
       "      <th>job</th>\n",
       "      <th>people_liable</th>\n",
       "      <th>telephone</th>\n",
       "      <th>foreign_worker</th>\n",
       "      <th>credit_risk</th>\n",
       "    </tr>\n",
       "  </thead>\n",
       "  <tbody>\n",
       "    <tr>\n",
       "      <th>0</th>\n",
       "      <td>1</td>\n",
       "      <td>2.890372</td>\n",
       "      <td>4</td>\n",
       "      <td>2</td>\n",
       "      <td>6.955593</td>\n",
       "      <td>1</td>\n",
       "      <td>2</td>\n",
       "      <td>4</td>\n",
       "      <td>2</td>\n",
       "      <td>1</td>\n",
       "      <td>4</td>\n",
       "      <td>2</td>\n",
       "      <td>3.044522</td>\n",
       "      <td>3</td>\n",
       "      <td>1</td>\n",
       "      <td>1</td>\n",
       "      <td>3</td>\n",
       "      <td>2</td>\n",
       "      <td>1</td>\n",
       "      <td>2</td>\n",
       "      <td>1</td>\n",
       "    </tr>\n",
       "    <tr>\n",
       "      <th>1</th>\n",
       "      <td>1</td>\n",
       "      <td>2.197225</td>\n",
       "      <td>4</td>\n",
       "      <td>0</td>\n",
       "      <td>7.937017</td>\n",
       "      <td>1</td>\n",
       "      <td>3</td>\n",
       "      <td>2</td>\n",
       "      <td>3</td>\n",
       "      <td>1</td>\n",
       "      <td>2</td>\n",
       "      <td>1</td>\n",
       "      <td>3.583519</td>\n",
       "      <td>3</td>\n",
       "      <td>1</td>\n",
       "      <td>2</td>\n",
       "      <td>3</td>\n",
       "      <td>1</td>\n",
       "      <td>1</td>\n",
       "      <td>2</td>\n",
       "      <td>1</td>\n",
       "    </tr>\n",
       "    <tr>\n",
       "      <th>2</th>\n",
       "      <td>2</td>\n",
       "      <td>2.484907</td>\n",
       "      <td>2</td>\n",
       "      <td>9</td>\n",
       "      <td>6.734592</td>\n",
       "      <td>2</td>\n",
       "      <td>4</td>\n",
       "      <td>2</td>\n",
       "      <td>2</td>\n",
       "      <td>1</td>\n",
       "      <td>4</td>\n",
       "      <td>1</td>\n",
       "      <td>3.135494</td>\n",
       "      <td>3</td>\n",
       "      <td>1</td>\n",
       "      <td>1</td>\n",
       "      <td>2</td>\n",
       "      <td>2</td>\n",
       "      <td>1</td>\n",
       "      <td>2</td>\n",
       "      <td>1</td>\n",
       "    </tr>\n",
       "    <tr>\n",
       "      <th>3</th>\n",
       "      <td>1</td>\n",
       "      <td>2.484907</td>\n",
       "      <td>4</td>\n",
       "      <td>0</td>\n",
       "      <td>7.660114</td>\n",
       "      <td>1</td>\n",
       "      <td>3</td>\n",
       "      <td>3</td>\n",
       "      <td>3</td>\n",
       "      <td>1</td>\n",
       "      <td>2</td>\n",
       "      <td>1</td>\n",
       "      <td>3.663562</td>\n",
       "      <td>3</td>\n",
       "      <td>1</td>\n",
       "      <td>2</td>\n",
       "      <td>2</td>\n",
       "      <td>1</td>\n",
       "      <td>1</td>\n",
       "      <td>1</td>\n",
       "      <td>1</td>\n",
       "    </tr>\n",
       "    <tr>\n",
       "      <th>4</th>\n",
       "      <td>1</td>\n",
       "      <td>2.302585</td>\n",
       "      <td>4</td>\n",
       "      <td>0</td>\n",
       "      <td>7.714677</td>\n",
       "      <td>1</td>\n",
       "      <td>2</td>\n",
       "      <td>1</td>\n",
       "      <td>3</td>\n",
       "      <td>1</td>\n",
       "      <td>3</td>\n",
       "      <td>1</td>\n",
       "      <td>3.871201</td>\n",
       "      <td>3</td>\n",
       "      <td>1</td>\n",
       "      <td>2</td>\n",
       "      <td>2</td>\n",
       "      <td>1</td>\n",
       "      <td>1</td>\n",
       "      <td>1</td>\n",
       "      <td>1</td>\n",
       "    </tr>\n",
       "  </tbody>\n",
       "</table>\n",
       "</div>"
      ],
      "text/plain": [
       "   status  duration  credit_history  purpose    amount  savings  \\\n",
       "0       1  2.890372               4        2  6.955593        1   \n",
       "1       1  2.197225               4        0  7.937017        1   \n",
       "2       2  2.484907               2        9  6.734592        2   \n",
       "3       1  2.484907               4        0  7.660114        1   \n",
       "4       1  2.302585               4        0  7.714677        1   \n",
       "\n",
       "   employment_duration  installment_rate  personal_status_sex  other_debtors  \\\n",
       "0                    2                 4                    2              1   \n",
       "1                    3                 2                    3              1   \n",
       "2                    4                 2                    2              1   \n",
       "3                    3                 3                    3              1   \n",
       "4                    2                 1                    3              1   \n",
       "\n",
       "   present_residence  property       age  other_installment_plans  housing  \\\n",
       "0                  4         2  3.044522                        3        1   \n",
       "1                  2         1  3.583519                        3        1   \n",
       "2                  4         1  3.135494                        3        1   \n",
       "3                  2         1  3.663562                        3        1   \n",
       "4                  3         1  3.871201                        3        1   \n",
       "\n",
       "   number_credits  job  people_liable  telephone  foreign_worker  credit_risk  \n",
       "0               1    3              2          1               2            1  \n",
       "1               2    3              1          1               2            1  \n",
       "2               1    2              2          1               2            1  \n",
       "3               2    2              1          1               1            1  \n",
       "4               2    2              1          1               1            1  "
      ]
     },
     "execution_count": 2,
     "metadata": {},
     "output_type": "execute_result"
    }
   ],
   "source": [
    "data=pd.read_csv(\"C:\\\\Users\\\\sony\\\\A_MACHINE LEARNING AND DEEP LEARNING- INEURON\\\\INETRNSHIP CREDIT RISK\\\\Analysis\\\\Training_dataset\\\\Training_Batch_File_process.csv\")\n",
    "\n",
    "data.drop(columns=[\"Unnamed: 0\"],inplace=True)\n",
    "\n",
    "data.head()"
   ]
  },
  {
   "cell_type": "code",
   "execution_count": 3,
   "id": "55ddb3a3",
   "metadata": {},
   "outputs": [
    {
     "name": "stdout",
     "output_type": "stream",
     "text": [
      "Feature data dimension:  (800, 20)\n",
      "Feature listed by socore: \n",
      "                    Features       Score\n",
      "0                    status  103.520610\n",
      "2            credit_history   44.490068\n",
      "1                  duration   29.123758\n",
      "5                   savings   21.314446\n",
      "11                 property   12.951793\n",
      "6       employment_duration   10.371529\n",
      "13  other_installment_plans    9.587006\n",
      "12                      age    8.317643\n",
      "4                    amount    5.176872\n",
      "7          installment_rate    5.167261\n",
      "19           foreign_worker    4.974140\n",
      "8       personal_status_sex    1.515033\n",
      "18                telephone    1.265790\n",
      "15           number_credits    1.240575\n",
      "16                      job    0.694743\n",
      "3                   purpose    0.448758\n",
      "9             other_debtors    0.091301\n",
      "17            people_liable    0.050776\n",
      "10        present_residence    0.021995\n",
      "14                  housing    0.001496 \n",
      "\n",
      "Top 10 Features are : \n",
      "                    Features       Score\n",
      "0                    status  103.520610\n",
      "2            credit_history   44.490068\n",
      "1                  duration   29.123758\n",
      "5                   savings   21.314446\n",
      "11                 property   12.951793\n",
      "6       employment_duration   10.371529\n",
      "13  other_installment_plans    9.587006\n",
      "12                      age    8.317643\n",
      "4                    amount    5.176872\n",
      "7          installment_rate    5.167261\n"
     ]
    }
   ],
   "source": [
    "# Feature Selection Method:\n",
    "\n",
    "from sklearn.feature_selection import SelectKBest\n",
    "from sklearn.feature_selection import f_classif #ANOVA(F-TEST)\n",
    "\n",
    "\n",
    "# Separate the target column the from the dataset\n",
    "X = data.drop(columns=['credit_risk'])\n",
    "y=data[\"credit_risk\"] \n",
    "\n",
    "print(\"Feature data dimension: \", X.shape)\n",
    "\n",
    "#lr_list = range(0,11)\n",
    "#or k in lr_list:\n",
    "\n",
    "### Apply SelectKBest Algorithm\n",
    "ordered_rank_features=SelectKBest(score_func=f_classif,k=20)\n",
    "ordered_feature=ordered_rank_features.fit(X,y)\n",
    "\n",
    "#create a dataframe\n",
    "dfscores=pd.DataFrame(ordered_feature.scores_,columns=[\"Score\"])\n",
    "dfcolumns=pd.DataFrame(X.columns)\n",
    "\n",
    "features_rank=pd.concat([dfcolumns,dfscores],axis=1)\n",
    "features_rank.columns=['Features','Score']\n",
    "lst=features_rank.sort_values(by=[\"Score\"],ascending=False)\n",
    "\n",
    "print(\"Feature listed by socore:\",\"\\n\",lst,\"\\n\")\n",
    "print(\"Top 10 Features are :\",\"\\n\",features_rank.nlargest(10,'Score'))\n",
    "#By using SelectKbest method findding the top 10 features"
   ]
  },
  {
   "cell_type": "code",
   "execution_count": 4,
   "id": "a56c1cb0",
   "metadata": {},
   "outputs": [
    {
     "data": {
      "text/html": [
       "<div>\n",
       "<style scoped>\n",
       "    .dataframe tbody tr th:only-of-type {\n",
       "        vertical-align: middle;\n",
       "    }\n",
       "\n",
       "    .dataframe tbody tr th {\n",
       "        vertical-align: top;\n",
       "    }\n",
       "\n",
       "    .dataframe thead th {\n",
       "        text-align: right;\n",
       "    }\n",
       "</style>\n",
       "<table border=\"1\" class=\"dataframe\">\n",
       "  <thead>\n",
       "    <tr style=\"text-align: right;\">\n",
       "      <th></th>\n",
       "      <th>status</th>\n",
       "      <th>credit_history</th>\n",
       "      <th>duration</th>\n",
       "      <th>savings</th>\n",
       "      <th>property</th>\n",
       "      <th>employment_duration</th>\n",
       "      <th>other_installment_plans</th>\n",
       "      <th>age</th>\n",
       "      <th>amount</th>\n",
       "      <th>installment_rate</th>\n",
       "      <th>credit_risk</th>\n",
       "    </tr>\n",
       "  </thead>\n",
       "  <tbody>\n",
       "    <tr>\n",
       "      <th>0</th>\n",
       "      <td>1</td>\n",
       "      <td>4</td>\n",
       "      <td>2.890372</td>\n",
       "      <td>1</td>\n",
       "      <td>2</td>\n",
       "      <td>2</td>\n",
       "      <td>3</td>\n",
       "      <td>3.044522</td>\n",
       "      <td>6.955593</td>\n",
       "      <td>4</td>\n",
       "      <td>1</td>\n",
       "    </tr>\n",
       "    <tr>\n",
       "      <th>1</th>\n",
       "      <td>1</td>\n",
       "      <td>4</td>\n",
       "      <td>2.197225</td>\n",
       "      <td>1</td>\n",
       "      <td>1</td>\n",
       "      <td>3</td>\n",
       "      <td>3</td>\n",
       "      <td>3.583519</td>\n",
       "      <td>7.937017</td>\n",
       "      <td>2</td>\n",
       "      <td>1</td>\n",
       "    </tr>\n",
       "    <tr>\n",
       "      <th>2</th>\n",
       "      <td>2</td>\n",
       "      <td>2</td>\n",
       "      <td>2.484907</td>\n",
       "      <td>2</td>\n",
       "      <td>1</td>\n",
       "      <td>4</td>\n",
       "      <td>3</td>\n",
       "      <td>3.135494</td>\n",
       "      <td>6.734592</td>\n",
       "      <td>2</td>\n",
       "      <td>1</td>\n",
       "    </tr>\n",
       "    <tr>\n",
       "      <th>3</th>\n",
       "      <td>1</td>\n",
       "      <td>4</td>\n",
       "      <td>2.484907</td>\n",
       "      <td>1</td>\n",
       "      <td>1</td>\n",
       "      <td>3</td>\n",
       "      <td>3</td>\n",
       "      <td>3.663562</td>\n",
       "      <td>7.660114</td>\n",
       "      <td>3</td>\n",
       "      <td>1</td>\n",
       "    </tr>\n",
       "    <tr>\n",
       "      <th>4</th>\n",
       "      <td>1</td>\n",
       "      <td>4</td>\n",
       "      <td>2.302585</td>\n",
       "      <td>1</td>\n",
       "      <td>1</td>\n",
       "      <td>2</td>\n",
       "      <td>3</td>\n",
       "      <td>3.871201</td>\n",
       "      <td>7.714677</td>\n",
       "      <td>1</td>\n",
       "      <td>1</td>\n",
       "    </tr>\n",
       "  </tbody>\n",
       "</table>\n",
       "</div>"
      ],
      "text/plain": [
       "   status  credit_history  duration  savings  property  employment_duration  \\\n",
       "0       1               4  2.890372        1         2                    2   \n",
       "1       1               4  2.197225        1         1                    3   \n",
       "2       2               2  2.484907        2         1                    4   \n",
       "3       1               4  2.484907        1         1                    3   \n",
       "4       1               4  2.302585        1         1                    2   \n",
       "\n",
       "   other_installment_plans       age    amount  installment_rate  credit_risk  \n",
       "0                        3  3.044522  6.955593                 4            1  \n",
       "1                        3  3.583519  7.937017                 2            1  \n",
       "2                        3  3.135494  6.734592                 2            1  \n",
       "3                        3  3.663562  7.660114                 3            1  \n",
       "4                        3  3.871201  7.714677                 1            1  "
      ]
     },
     "execution_count": 4,
     "metadata": {},
     "output_type": "execute_result"
    }
   ],
   "source": [
    "new_data=data[['status',\n",
    " 'credit_history',\n",
    " 'duration',\n",
    " 'savings',\n",
    " 'property',\n",
    " 'employment_duration',\n",
    " 'other_installment_plans',\n",
    " 'age',\n",
    " 'amount',\n",
    " 'installment_rate',\"credit_risk\"]]\n",
    "new_data.head()\n",
    "\n",
    "\n",
    "#By using feature selction method select the top 10 features which have highest score."
   ]
  },
  {
   "cell_type": "code",
   "execution_count": 5,
   "id": "65546b37",
   "metadata": {},
   "outputs": [],
   "source": [
    "# MOdel Creation\n",
    "\n",
    "from sklearn.preprocessing import StandardScaler\n",
    "\n",
    "\n",
    "from sklearn.model_selection import train_test_split\n",
    "\n",
    "from sklearn.linear_model import LogisticRegression\n",
    "\n",
    "from sklearn.model_selection import cross_val_score\n",
    "from sklearn.model_selection import cross_validate\n",
    "\n",
    "from sklearn import metrics\n",
    "\n",
    "from sklearn.metrics import accuracy_score, confusion_matrix, roc_curve, roc_auc_score\n",
    "\n",
    "from sklearn.model_selection import RandomizedSearchCV\n",
    "\n",
    "from sklearn.metrics import classification_report\n",
    "\n",
    "from sklearn.ensemble import AdaBoostClassifier\n",
    "\n",
    "from sklearn.metrics import plot_confusion_matrix\n",
    "\n",
    "# ignore warnings\n",
    "import warnings\n",
    "warnings.filterwarnings(\"ignore\", category=DeprecationWarning) \n",
    "%matplotlib inline"
   ]
  },
  {
   "cell_type": "code",
   "execution_count": 6,
   "id": "f604411f",
   "metadata": {},
   "outputs": [
    {
     "name": "stdout",
     "output_type": "stream",
     "text": [
      "1    600\n",
      "0    200\n",
      "Name: credit_risk, dtype: int64\n"
     ]
    }
   ],
   "source": [
    "# Separate the target column the from the dataset\n",
    "X = new_data.drop(columns=['credit_risk'])\n",
    "y=new_data[\"credit_risk\"] \n",
    "\n",
    "\n",
    "print(y.value_counts()) # imbalance dataset"
   ]
  },
  {
   "cell_type": "code",
   "execution_count": 7,
   "id": "0ab9cc56",
   "metadata": {},
   "outputs": [
    {
     "name": "stdout",
     "output_type": "stream",
     "text": [
      "Count of each class: \n",
      " 1    600\n",
      "0    200\n",
      "Name: credit_risk, dtype: int64\n",
      "\n",
      "\n",
      "Percentage of each class :  \n",
      " 1    75.0\n",
      "0    25.0\n",
      "Name: credit_risk, dtype: float64\n",
      "AxesSubplot(0.125,0.125;0.775x0.755)\n"
     ]
    },
    {
     "data": {
      "image/png": "[encoded data removed]",
      "text/plain": [
       "<Figure size 432x288 with 1 Axes>"
      ]
     },
     "metadata": {
      "needs_background": "light"
     },
     "output_type": "display_data"
    }
   ],
   "source": [
    "# for imabalne data set\n",
    "print(\"Count of each class:\",\"\\n\",y.value_counts()) # imbalnce dataset\n",
    "# Percentage calculation\n",
    "print(\"\\n\")\n",
    "print(\"Percentage of each class : \",\"\\n\",(y.value_counts()/y.count())*100)\n",
    "print(y.value_counts().plot(kind = 'bar'))\n"
   ]
  },
  {
   "cell_type": "markdown",
   "id": "18977ed2",
   "metadata": {},
   "source": [
    "**Note:Dataset needs to balance , for better calssification.**"
   ]
  },
  {
   "cell_type": "code",
   "execution_count": 8,
   "id": "036007ca",
   "metadata": {},
   "outputs": [
    {
     "data": {
      "text/html": [
       "<div>\n",
       "<style scoped>\n",
       "    .dataframe tbody tr th:only-of-type {\n",
       "        vertical-align: middle;\n",
       "    }\n",
       "\n",
       "    .dataframe tbody tr th {\n",
       "        vertical-align: top;\n",
       "    }\n",
       "\n",
       "    .dataframe thead th {\n",
       "        text-align: right;\n",
       "    }\n",
       "</style>\n",
       "<table border=\"1\" class=\"dataframe\">\n",
       "  <thead>\n",
       "    <tr style=\"text-align: right;\">\n",
       "      <th></th>\n",
       "      <th>0</th>\n",
       "      <th>1</th>\n",
       "      <th>2</th>\n",
       "      <th>3</th>\n",
       "      <th>4</th>\n",
       "      <th>5</th>\n",
       "      <th>6</th>\n",
       "      <th>7</th>\n",
       "      <th>8</th>\n",
       "      <th>9</th>\n",
       "    </tr>\n",
       "  </thead>\n",
       "  <tbody>\n",
       "    <tr>\n",
       "      <th>0</th>\n",
       "      <td>-1.318842</td>\n",
       "      <td>1.289599</td>\n",
       "      <td>0.061181</td>\n",
       "      <td>-0.720054</td>\n",
       "      <td>-0.334844</td>\n",
       "      <td>-1.140353</td>\n",
       "      <td>0.460325</td>\n",
       "      <td>-1.629650</td>\n",
       "      <td>-1.056017</td>\n",
       "      <td>0.923977</td>\n",
       "    </tr>\n",
       "    <tr>\n",
       "      <th>1</th>\n",
       "      <td>-1.318842</td>\n",
       "      <td>1.289599</td>\n",
       "      <td>-1.121800</td>\n",
       "      <td>-0.720054</td>\n",
       "      <td>-1.281400</td>\n",
       "      <td>-0.322896</td>\n",
       "      <td>0.460325</td>\n",
       "      <td>0.196050</td>\n",
       "      <td>0.214657</td>\n",
       "      <td>-0.840180</td>\n",
       "    </tr>\n",
       "    <tr>\n",
       "      <th>2</th>\n",
       "      <td>-0.518938</td>\n",
       "      <td>-0.529941</td>\n",
       "      <td>-0.630819</td>\n",
       "      <td>-0.090499</td>\n",
       "      <td>-1.281400</td>\n",
       "      <td>0.494562</td>\n",
       "      <td>0.460325</td>\n",
       "      <td>-1.321509</td>\n",
       "      <td>-1.342152</td>\n",
       "      <td>-0.840180</td>\n",
       "    </tr>\n",
       "    <tr>\n",
       "      <th>3</th>\n",
       "      <td>-1.318842</td>\n",
       "      <td>1.289599</td>\n",
       "      <td>-0.630819</td>\n",
       "      <td>-0.720054</td>\n",
       "      <td>-1.281400</td>\n",
       "      <td>-0.322896</td>\n",
       "      <td>0.460325</td>\n",
       "      <td>0.467172</td>\n",
       "      <td>-0.143856</td>\n",
       "      <td>0.041899</td>\n",
       "    </tr>\n",
       "    <tr>\n",
       "      <th>4</th>\n",
       "      <td>-1.318842</td>\n",
       "      <td>1.289599</td>\n",
       "      <td>-0.941983</td>\n",
       "      <td>-0.720054</td>\n",
       "      <td>-1.281400</td>\n",
       "      <td>-1.140353</td>\n",
       "      <td>0.460325</td>\n",
       "      <td>1.170493</td>\n",
       "      <td>-0.073211</td>\n",
       "      <td>-1.722258</td>\n",
       "    </tr>\n",
       "  </tbody>\n",
       "</table>\n",
       "</div>"
      ],
      "text/plain": [
       "          0         1         2         3         4         5         6  \\\n",
       "0 -1.318842  1.289599  0.061181 -0.720054 -0.334844 -1.140353  0.460325   \n",
       "1 -1.318842  1.289599 -1.121800 -0.720054 -1.281400 -0.322896  0.460325   \n",
       "2 -0.518938 -0.529941 -0.630819 -0.090499 -1.281400  0.494562  0.460325   \n",
       "3 -1.318842  1.289599 -0.630819 -0.720054 -1.281400 -0.322896  0.460325   \n",
       "4 -1.318842  1.289599 -0.941983 -0.720054 -1.281400 -1.140353  0.460325   \n",
       "\n",
       "          7         8         9  \n",
       "0 -1.629650 -1.056017  0.923977  \n",
       "1  0.196050  0.214657 -0.840180  \n",
       "2 -1.321509 -1.342152 -0.840180  \n",
       "3  0.467172 -0.143856  0.041899  \n",
       "4  1.170493 -0.073211 -1.722258  "
      ]
     },
     "execution_count": 8,
     "metadata": {},
     "output_type": "execute_result"
    }
   ],
   "source": [
    "scaler =StandardScaler()\n",
    "\n",
    "scaled = scaler.fit_transform(X)\n",
    "\n",
    "\n",
    "'''\"For Logistic regression algorithm (Based on algorithm)scaling the data set,\n",
    "to give equal importance to all features\"'''\n",
    "\n",
    "X_scaled=pd.DataFrame(scaled)\n",
    "X_scaled.head()\n"
   ]
  },
  {
   "cell_type": "markdown",
   "id": "643eac40",
   "metadata": {},
   "source": [
    "# OverSampling Method: To Balance the Dataset"
   ]
  },
  {
   "cell_type": "code",
   "execution_count": 9,
   "id": "69216f5c",
   "metadata": {},
   "outputs": [
    {
     "name": "stdout",
     "output_type": "stream",
     "text": [
      "The number of classes before fit Counter({1: 600, 0: 200})\n",
      "The number of classes after fit Counter({1: 600, 0: 450})\n",
      "\n",
      "\n",
      "Count of each class after oversampling: \n",
      " 1    600\n",
      "0    450\n",
      "Name: credit_risk, dtype: int64\n",
      "\n",
      "\n",
      "Percentage of each class after oversampling :  \n",
      " 1    57.142857\n",
      "0    42.857143\n",
      "Name: credit_risk, dtype: float64\n",
      "AxesSubplot(0.125,0.125;0.775x0.755)\n"
     ]
    },
    {
     "data": {
      "image/png": "[encoded data removed]",
      "text/plain": [
       "<Figure size 432x288 with 1 Axes>"
      ]
     },
     "metadata": {
      "needs_background": "light"
     },
     "output_type": "display_data"
    }
   ],
   "source": [
    "### Handle the imbalance dataset by using oversampling methods\n",
    "###!pip install imblearn\n",
    "\n",
    "from imblearn.over_sampling import RandomOverSampler\n",
    "\n",
    "from collections import Counter\n",
    "\n",
    "os=RandomOverSampler(0.75)\n",
    "\n",
    "X_ov,y_ov=os.fit_resample(X_scaled,y)\n",
    "\n",
    "print(\"The number of classes before fit {}\".format(Counter(y))) # Before oversampling\n",
    "print(\"The number of classes after fit {}\".format(Counter(y_ov)))# After Oversamplig\n",
    "print(\"\\n\")\n",
    "\n",
    "print(\"Count of each class after oversampling:\",\"\\n\",y_ov.value_counts()) # balance dataset\n",
    "print(\"\\n\")\n",
    "print(\"Percentage of each class after oversampling : \",\"\\n\",(y_ov.value_counts()/y_ov.count())*100)\n",
    "print(y_ov.value_counts().plot(kind = 'bar'))\n"
   ]
  },
  {
   "cell_type": "markdown",
   "id": "caec2fa3",
   "metadata": {},
   "source": [
    "# Split the Dataset"
   ]
  },
  {
   "cell_type": "code",
   "execution_count": 10,
   "id": "ba82404b",
   "metadata": {},
   "outputs": [
    {
     "name": "stdout",
     "output_type": "stream",
     "text": [
      "Split the data into training and test set\n",
      "X_train columns : 10 and Rows : 787\n",
      "X_test columns : 10 and Rows : 263\n"
     ]
    }
   ],
   "source": [
    "print(\"Split the data into training and test set\")\n",
    "from sklearn.model_selection import train_test_split\n",
    "X_train, X_test, y_train, y_test = train_test_split(X_ov,y_ov, test_size=0.25, random_state=355)\n",
    "\n",
    "# For model training and evaluation\n",
    "\n",
    "print('X_train columns : {a} and Rows : {b}'.format(a=X_train.shape[1],b=X_train.shape[0]))\n",
    "print('X_test columns : {a} and Rows : {b}'.format(a=X_test.shape[1],b=X_test.shape[0]))"
   ]
  },
  {
   "cell_type": "code",
   "execution_count": null,
   "id": "90a1e77a",
   "metadata": {},
   "outputs": [],
   "source": []
  },
  {
   "cell_type": "markdown",
   "id": "9f0e0a51",
   "metadata": {},
   "source": [
    "## Model Selection:"
   ]
  },
  {
   "cell_type": "code",
   "execution_count": 11,
   "id": "a68fecb6",
   "metadata": {},
   "outputs": [
    {
     "name": "stdout",
     "output_type": "stream",
     "text": [
      "LR:\n",
      " ACCURACY = 0.719133, RECALL=(0.764122), PRECISION=(0.742402), ROC-AUC=(0.786924)\n",
      "KNN:\n",
      " ACCURACY = 0.730477, RECALL=(0.746337), PRECISION=(0.766332), ROC-AUC=(0.797142)\n",
      "SGD:\n",
      " ACCURACY = 0.641577, RECALL=(0.743083), PRECISION=(0.715715), ROC-AUC=(0.707543)\n",
      "DT:\n",
      " ACCURACY = 0.809494, RECALL=(0.761611), PRECISION=(0.890463), ROC-AUC=(0.833927)\n",
      "SVC:\n",
      " ACCURACY = 0.758471, RECALL=(0.790430), PRECISION=(0.781451), ROC-AUC=(0.836810)\n",
      "RF:\n",
      " ACCURACY = 0.852564, RECALL=(0.836432), PRECISION=(0.885109), ROC-AUC=(0.927401)\n",
      "Ada:\n",
      " ACCURACY = 0.734372, RECALL=(0.765566), PRECISION=(0.764143), ROC-AUC=(0.800468)\n",
      "Grad:\n",
      " ACCURACY = 0.797923, RECALL=(0.796898), PRECISION=(0.835425), ROC-AUC=(0.863682)\n",
      "Xgb:\n",
      " ACCURACY = 0.847485, RECALL=(0.829610), PRECISION=(0.889764), ROC-AUC=(0.903407)\n"
     ]
    }
   ],
   "source": [
    "from sklearn.linear_model import LogisticRegression, SGDClassifier\n",
    "from sklearn.tree import DecisionTreeClassifier\n",
    "from sklearn.neighbors import KNeighborsClassifier\n",
    "from sklearn.ensemble import RandomForestClassifier, AdaBoostClassifier, GradientBoostingClassifier\n",
    "from sklearn.svm import SVC\n",
    "from xgboost import XGBClassifier\n",
    "from sklearn.model_selection import  KFold,cross_val_score\n",
    "\n",
    "\n",
    "models = []\n",
    "\n",
    "models.append(('LR', LogisticRegression()))\n",
    "models.append(('KNN', KNeighborsClassifier()))\n",
    "models.append(('SGD', SGDClassifier()))\n",
    "models.append(('DT', DecisionTreeClassifier()))\n",
    "models.append(('SVC', SVC()))\n",
    "models.append(('RF', RandomForestClassifier()))\n",
    "models.append(('Ada', AdaBoostClassifier()))\n",
    "models.append(('Grad', GradientBoostingClassifier()))\n",
    "models.append(('Xgb', XGBClassifier()))\n",
    "SEED = 121\n",
    "\n",
    "# Model Evaluation\n",
    "\n",
    "result = []\n",
    "model_names = []\n",
    "scoring = ['accuracy', 'recall', 'precision', 'roc_auc']\n",
    "\n",
    "for model_name, model in models:\n",
    "    kfold = KFold(n_splits=10, random_state=121,shuffle=True)\n",
    "    cv_results1 = cross_val_score(model, X_train, y_train, cv = kfold, scoring=scoring[0])\n",
    "    cv_results2 = cross_val_score(model, X_train, y_train, cv = kfold, scoring=scoring[1])\n",
    "    cv_results3 = cross_val_score(model, X_train, y_train, cv = kfold, scoring=scoring[2])\n",
    "    cv_results4 = cross_val_score(model, X_train, y_train, cv = kfold, scoring=scoring[3])\n",
    "    model_names.append(model_name)\n",
    "    msg = \"%s:\\n ACCURACY = %f, RECALL=(%f), PRECISION=(%f), ROC-AUC=(%f)\" % (model_name, cv_results1.mean(),cv_results2.mean(), cv_results3.mean(), cv_results4.mean())\n",
    "    print(msg)\n"
   ]
  },
  {
   "cell_type": "markdown",
   "id": "3158d87b",
   "metadata": {},
   "source": [
    "**Note: By using Cross-Validation on training dataset, get that Random Forest Gives better accuracy than the other model.Baesd on Simplicity and accuracy Random forest gives better result.**"
   ]
  },
  {
   "cell_type": "markdown",
   "id": "0a0cd733",
   "metadata": {},
   "source": [
    "### Model: LogisticRegression_Model"
   ]
  },
  {
   "cell_type": "code",
   "execution_count": 12,
   "id": "9064f034",
   "metadata": {},
   "outputs": [
    {
     "name": "stdout",
     "output_type": "stream",
     "text": [
      "Fitting 5 folds for each of 10 candidates, totalling 50 fits\n",
      "Parameters:  RandomizedSearchCV(cv=5, estimator=LogisticRegression(), n_jobs=-1,\n",
      "                   param_distributions={'fit_intercept': [True, False],\n",
      "                                        'multi_class': ['auto', 'ovr',\n",
      "                                                        'multinomial'],\n",
      "                                        'penalty': ['l1', 'l2', 'elasticnet'],\n",
      "                                        'random_state': range(100, 500),\n",
      "                                        'solver': ['newton-cg', 'lbfgs',\n",
      "                                                   'liblinear', 'sag',\n",
      "                                                   'saga']},\n",
      "                   random_state=42, verbose=2)\n",
      "\n",
      "\n",
      "The Parameters are : {'solver': 'sag', 'random_state': 186, 'penalty': 'l2', 'multi_class': 'auto', 'fit_intercept': True}\n",
      "\n",
      "\n",
      "Mean cross-validated score of the best_estimator: 0.7153672498589051\n"
     ]
    }
   ],
   "source": [
    "# Create a model by Logistic Regression\n",
    "log_reg = LogisticRegression()\n",
    "\n",
    "\n",
    "# RandomSearch CV :Create dict for the ada parameter\n",
    "random_param = {\n",
    "    \"penalty\":[\"l1\", \"l2\", \"elasticnet\"], \n",
    "    \"fit_intercept\":[True,False], \n",
    "    'random_state' : range(100,500),\n",
    "    'solver':[\"newton-cg\", \"lbfgs\", \"liblinear\",\"sag\",\"saga\"],\n",
    "    \"multi_class\":[\"auto\",\"ovr\",\"multinomial\"]\n",
    "}\n",
    "\n",
    "# random cv model\n",
    "random_search_log = RandomizedSearchCV(estimator=LogisticRegression(),\n",
    "                     param_distributions=random_param,random_state=42,\n",
    "                     cv=5,\n",
    "                    n_jobs =-1,verbose=2)\n",
    "\n",
    "print(\"Parameters: \",random_search_log.fit(X_train,y_train))\n",
    "# Fit the train dataset to get better parameteres\n",
    "print(\"\\n\")\n",
    "best_parameters_log = random_search_log.best_params_\n",
    "print(\"The Parameters are :\",best_parameters_log)\n",
    "print(\"\\n\")\n",
    "print(\"Mean cross-validated score of the best_estimator:\",random_search_log.best_score_ )\n",
    "\n"
   ]
  },
  {
   "cell_type": "code",
   "execution_count": 13,
   "id": "d8145f0e",
   "metadata": {},
   "outputs": [
    {
     "name": "stdout",
     "output_type": "stream",
     "text": [
      "LogisticRegression(random_state=186, solver='sag')\n",
      "Training accuracy 73.06226175349428\n",
      "Testing accuracy 69.20152091254754\n"
     ]
    }
   ],
   "source": [
    "log_reg=LogisticRegression(solver= \"sag\", random_state= 186,\n",
    "                             penalty=\"l2\", multi_class= \"auto\",fit_intercept=True)\n",
    "# Fit the train datapoints in LogisticRegression model\n",
    "print(log_reg.fit(X_train,y_train))\n",
    "\n",
    "# predict the X_test data set and find the predictited value\n",
    "y_pred_log= log_reg.predict(X_test)\n",
    "\n",
    "print(\"Training accuracy\",accuracy_score(y_train,log_reg.predict(X_train))*100)\n",
    "print(\"Testing accuracy\",accuracy_score(y_test,y_pred_log)*100)\n",
    "\n"
   ]
  },
  {
   "cell_type": "code",
   "execution_count": 14,
   "id": "e82f3043",
   "metadata": {},
   "outputs": [
    {
     "data": {
      "text/html": [
       "<div>\n",
       "<style scoped>\n",
       "    .dataframe tbody tr th:only-of-type {\n",
       "        vertical-align: middle;\n",
       "    }\n",
       "\n",
       "    .dataframe tbody tr th {\n",
       "        vertical-align: top;\n",
       "    }\n",
       "\n",
       "    .dataframe thead th {\n",
       "        text-align: right;\n",
       "    }\n",
       "</style>\n",
       "<table border=\"1\" class=\"dataframe\">\n",
       "  <thead>\n",
       "    <tr style=\"text-align: right;\">\n",
       "      <th></th>\n",
       "      <th>Real Values test</th>\n",
       "      <th>Predicted Values test</th>\n",
       "    </tr>\n",
       "  </thead>\n",
       "  <tbody>\n",
       "    <tr>\n",
       "      <th>278</th>\n",
       "      <td>1</td>\n",
       "      <td>0</td>\n",
       "    </tr>\n",
       "    <tr>\n",
       "      <th>946</th>\n",
       "      <td>0</td>\n",
       "      <td>0</td>\n",
       "    </tr>\n",
       "    <tr>\n",
       "      <th>560</th>\n",
       "      <td>1</td>\n",
       "      <td>1</td>\n",
       "    </tr>\n",
       "    <tr>\n",
       "      <th>237</th>\n",
       "      <td>1</td>\n",
       "      <td>1</td>\n",
       "    </tr>\n",
       "    <tr>\n",
       "      <th>726</th>\n",
       "      <td>0</td>\n",
       "      <td>0</td>\n",
       "    </tr>\n",
       "  </tbody>\n",
       "</table>\n",
       "</div>"
      ],
      "text/plain": [
       "     Real Values test  Predicted Values test \n",
       "278                 1                       0\n",
       "946                 0                       0\n",
       "560                 1                       1\n",
       "237                 1                       1\n",
       "726                 0                       0"
      ]
     },
     "execution_count": 14,
     "metadata": {},
     "output_type": "execute_result"
    }
   ],
   "source": [
    "Test=pd.DataFrame({'Real Values test':y_test, 'Predicted Values test ':y_pred_log})\n",
    "Test.head()\n",
    "# Compare the test and predicted output"
   ]
  },
  {
   "cell_type": "code",
   "execution_count": 15,
   "id": "8e72bf02",
   "metadata": {},
   "outputs": [
    {
     "name": "stdout",
     "output_type": "stream",
     "text": [
      "lOGISTIC REGRESSION MODEL PERFORMANCE MATRIX(CONFUSION MATRIX):\n",
      "1.Confusion_Matrix :  \n",
      " [[ 62  43]\n",
      " [ 38 120]]\n",
      "\n",
      "\n",
      "plot_confusion_matrix:\n"
     ]
    },
    {
     "data": {
      "image/png": "[encoded data removed]",
      "text/plain": [
       "<Figure size 432x288 with 2 Axes>"
      ]
     },
     "metadata": {
      "needs_background": "light"
     },
     "output_type": "display_data"
    },
    {
     "name": "stdout",
     "output_type": "stream",
     "text": [
      "2.Confusion_matrix accuracy : 0.6920152091254753\n",
      "3.Confusion_matrix precision : 0.7361963190184049\n",
      "4.Confusion_matrix recall : 0.759493670886076\n",
      "5.Confusion_matrix f1_score : 0.7476635514018691\n",
      "6.Classification Report : \n",
      "               precision    recall  f1-score   support\n",
      "\n",
      "           0       0.62      0.59      0.60       105\n",
      "           1       0.74      0.76      0.75       158\n",
      "\n",
      "    accuracy                           0.69       263\n",
      "   macro avg       0.68      0.67      0.68       263\n",
      "weighted avg       0.69      0.69      0.69       263\n",
      "\n"
     ]
    }
   ],
   "source": [
    "print(\"lOGISTIC REGRESSION MODEL PERFORMANCE MATRIX(CONFUSION MATRIX):\")\n",
    "\n",
    "#accuracy_log=round(metrics.accuracy_score(y_test,y_pred_log),2)\n",
    "accuracy_log=metrics.accuracy_score(y_test,y_pred_log)\n",
    "recall_log= metrics.recall_score(y_test,y_pred_log)\n",
    "Precision_log=metrics.precision_score(y_test,y_pred_log)\n",
    "f1_score_log=metrics.f1_score(y_test,y_pred_log)\n",
    "cf_matrix_log = confusion_matrix(y_true = y_test, y_pred = y_pred_log)\n",
    "\n",
    "print(\"1.Confusion_Matrix : \",\"\\n\",cf_matrix_log)\n",
    "\n",
    "print(\"\\n\")\n",
    "print(\"plot_confusion_matrix:\")\n",
    "plot_confusion_matrix(log_reg, X_test, y_test)  \n",
    "plt.show()\n",
    "\n",
    "print(\"2.Confusion_matrix accuracy :\",accuracy_log)\n",
    "print(\"3.Confusion_matrix precision :\",Precision_log)\n",
    "print(\"4.Confusion_matrix recall :\",recall_log)\n",
    "print(\"5.Confusion_matrix f1_score :\",f1_score_log)\n",
    "print(\"6.Classification Report :\",\"\\n\",classification_report(y_test, y_pred_log))"
   ]
  },
  {
   "cell_type": "code",
   "execution_count": null,
   "id": "a322786c",
   "metadata": {},
   "outputs": [],
   "source": []
  },
  {
   "cell_type": "markdown",
   "id": "79db63f1",
   "metadata": {},
   "source": [
    "### Model : ADA Boosting"
   ]
  },
  {
   "cell_type": "code",
   "execution_count": 16,
   "id": "ca22bdbb",
   "metadata": {},
   "outputs": [
    {
     "name": "stdout",
     "output_type": "stream",
     "text": [
      "Fitting 5 folds for each of 10 candidates, totalling 50 fits\n",
      "Parameters:  RandomizedSearchCV(cv=5, estimator=AdaBoostClassifier(), n_jobs=-1,\n",
      "                   param_distributions={'algorithm': ['SAMME', 'SAMME.R'],\n",
      "                                        'learning_rate': range(1, 5),\n",
      "                                        'n_estimators': range(10, 100),\n",
      "                                        'random_state': range(100, 500)},\n",
      "                   random_state=42, verbose=2)\n",
      "\n",
      "\n",
      "The Parameters are : {'random_state': 167, 'n_estimators': 17, 'learning_rate': 1, 'algorithm': 'SAMME.R'}\n",
      "\n",
      "\n",
      "Mean cross-validated score of the best_estimator: 0.7331452068048053\n"
     ]
    }
   ],
   "source": [
    "\n",
    "Ada_model=AdaBoostClassifier()\n",
    "# adaboost model\n",
    "\n",
    "# RandomSearch CV :Create dict for the ada parameter\n",
    "random_param = {\n",
    "    \"n_estimators\":range(10,100), \n",
    "    \"algorithm\":[\"SAMME\",\"SAMME.R\"], \n",
    "    'random_state' : range(100,500),\n",
    "    'learning_rate':range(1,5)\n",
    "}\n",
    "\n",
    "# random cv model\n",
    "random_search_ada = RandomizedSearchCV(estimator=AdaBoostClassifier(),\n",
    "                     param_distributions=random_param,random_state=42,\n",
    "                     cv=5,\n",
    "                    n_jobs =-1,verbose=2)\n",
    "\n",
    "print(\"Parameters: \",random_search_ada.fit(X_train,y_train))\n",
    "\n",
    "best_parameters_ada = random_search_ada.best_params_\n",
    "print(\"\\n\")\n",
    "best_parameters_ada = random_search_ada.best_params_\n",
    "print(\"The Parameters are :\",best_parameters_ada)\n",
    "print(\"\\n\")\n",
    "print(\"Mean cross-validated score of the best_estimator:\",random_search_ada.best_score_ )"
   ]
  },
  {
   "cell_type": "code",
   "execution_count": 17,
   "id": "1f022ec5",
   "metadata": {},
   "outputs": [
    {
     "name": "stdout",
     "output_type": "stream",
     "text": [
      "AdaBoostClassifier(learning_rate=1, n_estimators=17, random_state=167)\n",
      "Training accuracy 76.23888182973316\n",
      "Testing accuracy 68.44106463878326\n"
     ]
    }
   ],
   "source": [
    "Ada_model=AdaBoostClassifier(random_state= 167, n_estimators= 17,learning_rate=1, \n",
    "                             algorithm= \"SAMME.R\")\n",
    "#Fit the train datapoints in AdaBoostClassifier model\n",
    "\n",
    "print(Ada_model.fit(X_train,y_train))\n",
    "\n",
    "# predict the X_test data set and find the predictited value\n",
    "y_pred_ada= Ada_model.predict(X_test)\n",
    "\n",
    "print(\"Training accuracy\",accuracy_score(y_train,Ada_model.predict(X_train))*100)\n",
    "print(\"Testing accuracy\",accuracy_score(y_test,y_pred_ada)*100)"
   ]
  },
  {
   "cell_type": "code",
   "execution_count": 18,
   "id": "75dd047d",
   "metadata": {},
   "outputs": [
    {
     "data": {
      "text/html": [
       "<div>\n",
       "<style scoped>\n",
       "    .dataframe tbody tr th:only-of-type {\n",
       "        vertical-align: middle;\n",
       "    }\n",
       "\n",
       "    .dataframe tbody tr th {\n",
       "        vertical-align: top;\n",
       "    }\n",
       "\n",
       "    .dataframe thead th {\n",
       "        text-align: right;\n",
       "    }\n",
       "</style>\n",
       "<table border=\"1\" class=\"dataframe\">\n",
       "  <thead>\n",
       "    <tr style=\"text-align: right;\">\n",
       "      <th></th>\n",
       "      <th>Real Values test</th>\n",
       "      <th>Predicted Values test</th>\n",
       "    </tr>\n",
       "  </thead>\n",
       "  <tbody>\n",
       "    <tr>\n",
       "      <th>278</th>\n",
       "      <td>1</td>\n",
       "      <td>0</td>\n",
       "    </tr>\n",
       "    <tr>\n",
       "      <th>946</th>\n",
       "      <td>0</td>\n",
       "      <td>0</td>\n",
       "    </tr>\n",
       "    <tr>\n",
       "      <th>560</th>\n",
       "      <td>1</td>\n",
       "      <td>1</td>\n",
       "    </tr>\n",
       "    <tr>\n",
       "      <th>237</th>\n",
       "      <td>1</td>\n",
       "      <td>1</td>\n",
       "    </tr>\n",
       "    <tr>\n",
       "      <th>726</th>\n",
       "      <td>0</td>\n",
       "      <td>0</td>\n",
       "    </tr>\n",
       "  </tbody>\n",
       "</table>\n",
       "</div>"
      ],
      "text/plain": [
       "     Real Values test  Predicted Values test \n",
       "278                 1                       0\n",
       "946                 0                       0\n",
       "560                 1                       1\n",
       "237                 1                       1\n",
       "726                 0                       0"
      ]
     },
     "execution_count": 18,
     "metadata": {},
     "output_type": "execute_result"
    }
   ],
   "source": [
    "a_Test=pd.DataFrame({'Real Values test':y_test, 'Predicted Values test ':y_pred_ada})\n",
    "a_Test.head()\n",
    "# Compare the test and predicted output"
   ]
  },
  {
   "cell_type": "code",
   "execution_count": 19,
   "id": "477f199d",
   "metadata": {},
   "outputs": [
    {
     "name": "stdout",
     "output_type": "stream",
     "text": [
      "AdaBoostClassifier MODEL PERFORMANCE MATRIX(CONFUSION MATRIX):\n",
      "1.Confusion_Matrix :  \n",
      " [[ 65  40]\n",
      " [ 43 115]]\n",
      "\n",
      "\n",
      "plot_confusion_matrix:\n"
     ]
    },
    {
     "data": {
      "image/png": "[encoded data removed]",
      "text/plain": [
       "<Figure size 432x288 with 2 Axes>"
      ]
     },
     "metadata": {
      "needs_background": "light"
     },
     "output_type": "display_data"
    },
    {
     "name": "stdout",
     "output_type": "stream",
     "text": [
      "2.Confusion_matrix accuracy : 0.6844106463878327\n",
      "3.Confusion_matrix precision : 0.7419354838709677\n",
      "4.Confusion_matrix recall : 0.7278481012658228\n",
      "5.Confusion_matrix f1_score : 0.7348242811501596\n",
      "6.Classification Report : \n",
      "               precision    recall  f1-score   support\n",
      "\n",
      "           0       0.60      0.62      0.61       105\n",
      "           1       0.74      0.73      0.73       158\n",
      "\n",
      "    accuracy                           0.68       263\n",
      "   macro avg       0.67      0.67      0.67       263\n",
      "weighted avg       0.69      0.68      0.69       263\n",
      "\n"
     ]
    }
   ],
   "source": [
    "print(\"AdaBoostClassifier MODEL PERFORMANCE MATRIX(CONFUSION MATRIX):\")\n",
    "\n",
    "#accuracy_ada=round(metrics.accuracy_score(y_test,y_pred_ada),2)\n",
    "accuracy_ada=metrics.accuracy_score(y_test,y_pred_ada)\n",
    "recall_ada= metrics.recall_score(y_test,y_pred_ada)\n",
    "Precision_ada=metrics.precision_score(y_test,y_pred_ada)\n",
    "f1_score_ada=metrics.f1_score(y_test,y_pred_ada)\n",
    "cf_matrix_ada = confusion_matrix(y_true = y_test, y_pred = y_pred_ada)\n",
    "\n",
    "print(\"1.Confusion_Matrix : \",\"\\n\",cf_matrix_ada)\n",
    "print(\"\\n\")\n",
    "print(\"plot_confusion_matrix:\")\n",
    "plot_confusion_matrix(Ada_model, X_test, y_test)  \n",
    "plt.show()\n",
    "\n",
    "print(\"2.Confusion_matrix accuracy :\",accuracy_ada)\n",
    "print(\"3.Confusion_matrix precision :\",Precision_ada)\n",
    "print(\"4.Confusion_matrix recall :\",recall_ada)\n",
    "print(\"5.Confusion_matrix f1_score :\",f1_score_ada)\n",
    "print(\"6.Classification Report :\",\"\\n\",classification_report(y_test, y_pred_ada))\n"
   ]
  },
  {
   "cell_type": "markdown",
   "id": "8d86a4f9",
   "metadata": {},
   "source": [
    "# Model: RandomForest Classifier"
   ]
  },
  {
   "cell_type": "code",
   "execution_count": 20,
   "id": "f471dd62",
   "metadata": {},
   "outputs": [
    {
     "name": "stdout",
     "output_type": "stream",
     "text": [
      "Fitting 5 folds for each of 10 candidates, totalling 50 fits\n",
      "Parameters:  RandomizedSearchCV(cv=5, estimator=RandomForestClassifier(), n_jobs=-1,\n",
      "                   param_distributions={'criterion': ['gini', 'entropy',\n",
      "                                                      'log_loss'],\n",
      "                                        'max_depth': range(10, 50),\n",
      "                                        'max_features': ['sqrt', 'log2'],\n",
      "                                        'min_samples_leaf': range(1, 5),\n",
      "                                        'min_samples_split': range(1, 5),\n",
      "                                        'n_estimators': range(50, 500)},\n",
      "                   random_state=42, verbose=2)\n",
      "\n",
      "\n",
      "The Parameters are : {'n_estimators': 137, 'min_samples_split': 2, 'min_samples_leaf': 1, 'max_features': 'log2', 'max_depth': 19, 'criterion': 'gini'}\n",
      "\n",
      "\n",
      "Mean cross-validated score of the best_estimator: 0.8589454164315086\n"
     ]
    }
   ],
   "source": [
    "\n",
    "#Rf_model=RandomForestClassifier()\n",
    "# RandomForestClassifier model\n",
    "\n",
    "# RandomSearch CV :Create dict for the ada parameter\n",
    "random_param_rf = {\n",
    "    \"n_estimators\":range(50,500), \n",
    "    \"criterion\":[\"gini\",\"entropy\",\"log_loss\"], \n",
    "    'max_depth' : range(10,50),\n",
    "    'min_samples_split':range(1,5),\n",
    "    \"min_samples_leaf\":range(1,5),\n",
    "    \"max_features\":[\"sqrt\",\"log2\"]\n",
    "}\n",
    "\n",
    "# random cv model\n",
    "random_search_Rf = RandomizedSearchCV(estimator=RandomForestClassifier(),\n",
    "                     param_distributions=random_param_rf,random_state=42,\n",
    "                     cv=5,\n",
    "                    n_jobs =-1,verbose=2)\n",
    "\n",
    "print(\"Parameters: \",random_search_Rf.fit(X_train,y_train))\n",
    "\n",
    "best_parameters_Rf = random_search_Rf.best_params_\n",
    "print(\"\\n\")\n",
    "best_parameters_Rf = random_search_Rf.best_params_\n",
    "print(\"The Parameters are :\",best_parameters_Rf)\n",
    "print(\"\\n\")\n",
    "print(\"Mean cross-validated score of the best_estimator:\",random_search_Rf.best_score_ )"
   ]
  },
  {
   "cell_type": "code",
   "execution_count": 21,
   "id": "9dce5baa",
   "metadata": {},
   "outputs": [
    {
     "name": "stdout",
     "output_type": "stream",
     "text": [
      "RandomForestClassifier(max_depth=19, max_features='log2', n_estimators=137)\n",
      "Training accuracy 100.0\n",
      "Testing accuracy 82.12927756653993\n"
     ]
    }
   ],
   "source": [
    "Rf_model=RandomForestClassifier(n_estimators= 137, min_samples_split= 2,\n",
    "                                min_samples_leaf=1, max_features= \"log2\",\n",
    "                               max_depth=19,criterion=\"gini\")\n",
    "#Fit the train datapoints in RandomForestClassifier model\n",
    "\n",
    "print(Rf_model.fit(X_train,y_train))\n",
    "\n",
    "# predict the X_test data set and find the predictited value\n",
    "y_pred_Rf= Rf_model.predict(X_test)\n",
    "\n",
    "print(\"Training accuracy\",accuracy_score(y_train,Rf_model.predict(X_train))*100)\n",
    "print(\"Testing accuracy\",accuracy_score(y_test,y_pred_Rf)*100)"
   ]
  },
  {
   "cell_type": "code",
   "execution_count": 22,
   "id": "59bdfeab",
   "metadata": {},
   "outputs": [
    {
     "data": {
      "text/html": [
       "<div>\n",
       "<style scoped>\n",
       "    .dataframe tbody tr th:only-of-type {\n",
       "        vertical-align: middle;\n",
       "    }\n",
       "\n",
       "    .dataframe tbody tr th {\n",
       "        vertical-align: top;\n",
       "    }\n",
       "\n",
       "    .dataframe thead th {\n",
       "        text-align: right;\n",
       "    }\n",
       "</style>\n",
       "<table border=\"1\" class=\"dataframe\">\n",
       "  <thead>\n",
       "    <tr style=\"text-align: right;\">\n",
       "      <th></th>\n",
       "      <th>Real Values test</th>\n",
       "      <th>Predicted Values test</th>\n",
       "    </tr>\n",
       "  </thead>\n",
       "  <tbody>\n",
       "    <tr>\n",
       "      <th>278</th>\n",
       "      <td>1</td>\n",
       "      <td>0</td>\n",
       "    </tr>\n",
       "    <tr>\n",
       "      <th>946</th>\n",
       "      <td>0</td>\n",
       "      <td>0</td>\n",
       "    </tr>\n",
       "    <tr>\n",
       "      <th>560</th>\n",
       "      <td>1</td>\n",
       "      <td>1</td>\n",
       "    </tr>\n",
       "    <tr>\n",
       "      <th>237</th>\n",
       "      <td>1</td>\n",
       "      <td>1</td>\n",
       "    </tr>\n",
       "    <tr>\n",
       "      <th>726</th>\n",
       "      <td>0</td>\n",
       "      <td>0</td>\n",
       "    </tr>\n",
       "  </tbody>\n",
       "</table>\n",
       "</div>"
      ],
      "text/plain": [
       "     Real Values test  Predicted Values test \n",
       "278                 1                       0\n",
       "946                 0                       0\n",
       "560                 1                       1\n",
       "237                 1                       1\n",
       "726                 0                       0"
      ]
     },
     "execution_count": 22,
     "metadata": {},
     "output_type": "execute_result"
    }
   ],
   "source": [
    "a_Test=pd.DataFrame({'Real Values test':y_test, 'Predicted Values test ':y_pred_Rf})\n",
    "a_Test.head()\n",
    "# Compare the test and predicted output"
   ]
  },
  {
   "cell_type": "code",
   "execution_count": 23,
   "id": "55c38f4b",
   "metadata": {},
   "outputs": [
    {
     "name": "stdout",
     "output_type": "stream",
     "text": [
      "RandomForestClassifier MODEL PERFORMANCE MATRIX(CONFUSION MATRIX):\n",
      "1.Confusion_Matrix :  \n",
      " [[ 89  16]\n",
      " [ 31 127]]\n",
      "\n",
      "\n",
      "plot_confusion_matrix:\n"
     ]
    },
    {
     "data": {
      "image/png": "[encoded data removed]",
      "text/plain": [
       "<Figure size 432x288 with 2 Axes>"
      ]
     },
     "metadata": {
      "needs_background": "light"
     },
     "output_type": "display_data"
    },
    {
     "name": "stdout",
     "output_type": "stream",
     "text": [
      "2.Confusion_matrix accuracy : 0.8212927756653993\n",
      "3.Confusion_matrix precision : 0.8881118881118881\n",
      "4.Confusion_matrix recall : 0.8037974683544303\n",
      "5.Confusion_matrix f1_score : 0.8438538205980066\n",
      "6.Classification Report : \n",
      "               precision    recall  f1-score   support\n",
      "\n",
      "           0       0.74      0.85      0.79       105\n",
      "           1       0.89      0.80      0.84       158\n",
      "\n",
      "    accuracy                           0.82       263\n",
      "   macro avg       0.81      0.83      0.82       263\n",
      "weighted avg       0.83      0.82      0.82       263\n",
      "\n"
     ]
    }
   ],
   "source": [
    "print(\"RandomForestClassifier MODEL PERFORMANCE MATRIX(CONFUSION MATRIX):\")\n",
    "\n",
    "#accuracy_rf=round(metrics.accuracy_score(y_test,y_pred_rf),2)\n",
    "accuracy_rf=metrics.accuracy_score(y_test,y_pred_Rf)\n",
    "recall_rf= metrics.recall_score(y_test,y_pred_Rf)\n",
    "Precision_rf=metrics.precision_score(y_test,y_pred_Rf)\n",
    "f1_score_rf=metrics.f1_score(y_test,y_pred_Rf)\n",
    "cf_matrix_rf = confusion_matrix(y_true = y_test, y_pred = y_pred_Rf)\n",
    "\n",
    "print(\"1.Confusion_Matrix : \",\"\\n\",cf_matrix_rf)\n",
    "print(\"\\n\")\n",
    "print(\"plot_confusion_matrix:\")\n",
    "plot_confusion_matrix(Rf_model, X_test, y_test)  \n",
    "plt.show()\n",
    "\n",
    "print(\"2.Confusion_matrix accuracy :\",accuracy_rf)\n",
    "print(\"3.Confusion_matrix precision :\",Precision_rf)\n",
    "print(\"4.Confusion_matrix recall :\",recall_rf)\n",
    "print(\"5.Confusion_matrix f1_score :\",f1_score_rf)\n",
    "print(\"6.Classification Report :\",\"\\n\",classification_report(y_test, y_pred_Rf))"
   ]
  },
  {
   "cell_type": "markdown",
   "id": "33c2f929",
   "metadata": {},
   "source": [
    "**Note: When copmpare all the model by using Cross validate score, Random forest gives better accuracy.So using RandomizedSearchCv select the best parameter.Also compare to other models Random forest model perfomance is good.It predict the class correctly more than other models.So as per simplicity and perfomance of this RandomForest model is selected.**"
   ]
  },
  {
   "cell_type": "markdown",
   "id": "0b92454d",
   "metadata": {},
   "source": [
    "# Save the model."
   ]
  },
  {
   "cell_type": "code",
   "execution_count": 24,
   "id": "d473fb77",
   "metadata": {},
   "outputs": [],
   "source": [
    "## import the module:\n",
    "\n",
    "import pickle\n",
    "from pathlib import Path\n",
    "## Set root equal to your current folder:\n",
    "\n",
    "root = Path(\"C:/Users/sony/A_MACHINE LEARNING AND DEEP LEARNING- INEURON/INETRNSHIP CREDIT RISK/Analysis\")\n",
    "\n",
    "#Create a path to your sub-folder and file name:\n",
    "\n",
    "my_path = root / \"Saved_Model\" / \"RandomForest_Classifier.pckl\"\n",
    "\n",
    "#Open your file, dump data to your file, close your file:\n",
    "\n",
    "my_file = open(my_path, 'wb')\n",
    "my_file = pickle.dump(\"Rf_model\", my_file)\n",
    "#my_file.close()"
   ]
  },
  {
   "cell_type": "code",
   "execution_count": 25,
   "id": "2140b73a",
   "metadata": {},
   "outputs": [],
   "source": [
    "# save the model to disk\n",
    "filepath = r'C:/Users/sony/A_MACHINE LEARNING AND DEEP LEARNING- INEURON/INETRNSHIP CREDIT RISK/Analysis/Saved_Model/RandomForest_Classifier_pickle.pckl'\n",
    "pickle.dump(Rf_model, open(filepath, 'wb'))"
   ]
  },
  {
   "cell_type": "markdown",
   "id": "f4c44091",
   "metadata": {},
   "source": [
    "**Note: Save the object structure file into the binary file(in pickle format).**"
   ]
  },
  {
   "cell_type": "code",
   "execution_count": null,
   "id": "a393011b",
   "metadata": {},
   "outputs": [],
   "source": []
  }
 ],
 "metadata": {
  "kernelspec": {
   "display_name": "Python 3 (ipykernel)",
   "language": "python",
   "name": "python3"
  },
  "language_info": {
   "codemirror_mode": {
    "name": "ipython",
    "version": 3
   },
   "file_extension": ".py",
   "mimetype": "text/x-python",
   "name": "python",
   "nbconvert_exporter": "python",
   "pygments_lexer": "ipython3",
   "version": "3.9.7"
  }
 },
 "nbformat": 4,
 "nbformat_minor": 5
}
